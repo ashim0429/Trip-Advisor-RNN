{
  "nbformat": 4,
  "nbformat_minor": 0,
  "metadata": {
    "colab": {
      "provenance": [],
      "gpuType": "T4"
    },
    "kernelspec": {
      "name": "python3",
      "display_name": "Python 3"
    },
    "language_info": {
      "name": "python"
    },
    "accelerator": "GPU",
    "gpuClass": "standard"
  },
  "cells": [
    {
      "cell_type": "markdown",
      "source": [
        "# *Name : Ashim Baral*\n",
        "\n",
      ],
      "metadata": {
        "id": "4sFw8Ii9M1cd"
      }
    },
    {
      "cell_type": "markdown",
      "source": [
        "# **About Data**"
      ],
      "metadata": {
        "id": "JKJZASm7mbgG"
      }
    },
    {
      "cell_type": "markdown",
      "source": [
        "This dataset is about Hotel Trip Advisor, that gets reviews from the customers about the hotel and the rating they have provided of that particular hotel."
      ],
      "metadata": {
        "id": "nXEF8p-Wmfcq"
      }
    },
    {
      "cell_type": "markdown",
      "source": [
        "There are two classes in this dataset, i.e. there are two columns which is Review; reviews collected from the customers and Rating; ratings of that particular hotel review."
      ],
      "metadata": {
        "id": "yTTmJmUUm2uf"
      }
    },
    {
      "cell_type": "code",
      "execution_count": null,
      "metadata": {
        "colab": {
          "base_uri": "https://localhost:8080/"
        },
        "id": "B6jrDGAp241s",
        "outputId": "c97a3a12-5156-4efd-d4a6-9e9a1f7bb214"
      },
      "outputs": [
        {
          "output_type": "stream",
          "name": "stdout",
          "text": [
            "Mounted at /content/drive/\n"
          ]
        }
      ],
      "source": [
        "from google.colab import drive\n",
        "drive.mount('/content/drive/')"
      ]
    },
    {
      "cell_type": "code",
      "source": [
        "import pandas as pd\n",
        "data = pd.read_csv(\"/content/drive/MyDrive/AI_RNN/tripadvisor_hotel_reviews.csv\")"
      ],
      "metadata": {
        "id": "zLXHyieS3q5X"
      },
      "execution_count": null,
      "outputs": []
    },
    {
      "cell_type": "markdown",
      "source": [
        "##### Importing all the necessary libraries to be used in this program"
      ],
      "metadata": {
        "id": "DPYFbF9nOmqg"
      }
    },
    {
      "cell_type": "code",
      "source": [
        "import pandas as pd\n",
        "import numpy as np\n",
        "import re\n",
        "\n",
        "from tensorflow.keras.preprocessing.text import Tokenizer\n",
        "from tensorflow.keras.preprocessing.sequence import pad_sequences\n",
        "from tensorflow.keras.layers import Embedding, LSTM, Dense\n",
        "from tensorflow.keras.models import Sequential\n",
        "from tensorflow.keras.layers import Dropout\n",
        "from tensorflow.keras.callbacks import EarlyStopping\n",
        "from tensorflow.keras import regularizers\n",
        "\n",
        "from sklearn.model_selection import train_test_split\n",
        "from sklearn.metrics import confusion_matrix, classification_report, accuracy_score\n",
        "\n",
        "!pip install contractions\n",
        "import contractions"
      ],
      "metadata": {
        "id": "UV1yYwai5Rsk",
        "colab": {
          "base_uri": "https://localhost:8080/"
        },
        "outputId": "47ceac6f-07e4-419e-eefa-d67e7fcc5b65"
      },
      "execution_count": null,
      "outputs": [
        {
          "output_type": "stream",
          "name": "stdout",
          "text": [
            "Looking in indexes: https://pypi.org/simple, https://us-python.pkg.dev/colab-wheels/public/simple/\n",
            "Collecting contractions\n",
            "  Downloading contractions-0.1.73-py2.py3-none-any.whl (8.7 kB)\n",
            "Collecting textsearch>=0.0.21\n",
            "  Downloading textsearch-0.0.24-py2.py3-none-any.whl (7.6 kB)\n",
            "Collecting pyahocorasick\n",
            "  Downloading pyahocorasick-2.0.0-cp310-cp310-manylinux_2_5_x86_64.manylinux1_x86_64.manylinux_2_12_x86_64.manylinux2010_x86_64.whl (110 kB)\n",
            "\u001b[2K     \u001b[90m━━━━━━━━━━━━━━━━━━━━━━━━━━━━━━━━━━━━━━━\u001b[0m \u001b[32m110.8/110.8 kB\u001b[0m \u001b[31m3.8 MB/s\u001b[0m eta \u001b[36m0:00:00\u001b[0m\n",
            "\u001b[?25hCollecting anyascii\n",
            "  Downloading anyascii-0.3.2-py3-none-any.whl (289 kB)\n",
            "\u001b[2K     \u001b[90m━━━━━━━━━━━━━━━━━━━━━━━━━━━━━━━━━━━━━━\u001b[0m \u001b[32m289.9/289.9 kB\u001b[0m \u001b[31m15.1 MB/s\u001b[0m eta \u001b[36m0:00:00\u001b[0m\n",
            "\u001b[?25hInstalling collected packages: pyahocorasick, anyascii, textsearch, contractions\n",
            "Successfully installed anyascii-0.3.2 contractions-0.1.73 pyahocorasick-2.0.0 textsearch-0.0.24\n"
          ]
        }
      ]
    },
    {
      "cell_type": "markdown",
      "source": [
        "## **Data Understanding**"
      ],
      "metadata": {
        "id": "Vkvwn_1-P6b_"
      }
    },
    {
      "cell_type": "code",
      "source": [
        "data.info()"
      ],
      "metadata": {
        "colab": {
          "base_uri": "https://localhost:8080/"
        },
        "id": "avwvdxLmOVbU",
        "outputId": "3c2827ab-a0b1-435c-f953-34655281e965"
      },
      "execution_count": null,
      "outputs": [
        {
          "output_type": "stream",
          "name": "stdout",
          "text": [
            "<class 'pandas.core.frame.DataFrame'>\n",
            "RangeIndex: 20491 entries, 0 to 20490\n",
            "Data columns (total 2 columns):\n",
            " #   Column  Non-Null Count  Dtype \n",
            "---  ------  --------------  ----- \n",
            " 0   Review  20491 non-null  object\n",
            " 1   Rating  20491 non-null  int64 \n",
            "dtypes: int64(1), object(1)\n",
            "memory usage: 320.3+ KB\n"
          ]
        }
      ]
    },
    {
      "cell_type": "code",
      "source": [
        "data.head()"
      ],
      "metadata": {
        "colab": {
          "base_uri": "https://localhost:8080/",
          "height": 206
        },
        "id": "esbo-DtL5fCX",
        "outputId": "75749d48-7f4c-4e44-fec3-e704e33d5369"
      },
      "execution_count": null,
      "outputs": [
        {
          "output_type": "execute_result",
          "data": {
            "text/plain": [
              "                                              Review  Rating\n",
              "0  nice hotel expensive parking got good deal sta...       4\n",
              "1  ok nothing special charge diamond member hilto...       2\n",
              "2  nice rooms not 4* experience hotel monaco seat...       3\n",
              "3  unique, great stay, wonderful time hotel monac...       5\n",
              "4  great stay great stay, went seahawk game aweso...       5"
            ],
            "text/html": [
              "\n",
              "  <div id=\"df-7add14e9-9d43-4dd7-aeb7-3c5c83f425b8\">\n",
              "    <div class=\"colab-df-container\">\n",
              "      <div>\n",
              "<style scoped>\n",
              "    .dataframe tbody tr th:only-of-type {\n",
              "        vertical-align: middle;\n",
              "    }\n",
              "\n",
              "    .dataframe tbody tr th {\n",
              "        vertical-align: top;\n",
              "    }\n",
              "\n",
              "    .dataframe thead th {\n",
              "        text-align: right;\n",
              "    }\n",
              "</style>\n",
              "<table border=\"1\" class=\"dataframe\">\n",
              "  <thead>\n",
              "    <tr style=\"text-align: right;\">\n",
              "      <th></th>\n",
              "      <th>Review</th>\n",
              "      <th>Rating</th>\n",
              "    </tr>\n",
              "  </thead>\n",
              "  <tbody>\n",
              "    <tr>\n",
              "      <th>0</th>\n",
              "      <td>nice hotel expensive parking got good deal sta...</td>\n",
              "      <td>4</td>\n",
              "    </tr>\n",
              "    <tr>\n",
              "      <th>1</th>\n",
              "      <td>ok nothing special charge diamond member hilto...</td>\n",
              "      <td>2</td>\n",
              "    </tr>\n",
              "    <tr>\n",
              "      <th>2</th>\n",
              "      <td>nice rooms not 4* experience hotel monaco seat...</td>\n",
              "      <td>3</td>\n",
              "    </tr>\n",
              "    <tr>\n",
              "      <th>3</th>\n",
              "      <td>unique, great stay, wonderful time hotel monac...</td>\n",
              "      <td>5</td>\n",
              "    </tr>\n",
              "    <tr>\n",
              "      <th>4</th>\n",
              "      <td>great stay great stay, went seahawk game aweso...</td>\n",
              "      <td>5</td>\n",
              "    </tr>\n",
              "  </tbody>\n",
              "</table>\n",
              "</div>\n",
              "      <button class=\"colab-df-convert\" onclick=\"convertToInteractive('df-7add14e9-9d43-4dd7-aeb7-3c5c83f425b8')\"\n",
              "              title=\"Convert this dataframe to an interactive table.\"\n",
              "              style=\"display:none;\">\n",
              "        \n",
              "  <svg xmlns=\"http://www.w3.org/2000/svg\" height=\"24px\"viewBox=\"0 0 24 24\"\n",
              "       width=\"24px\">\n",
              "    <path d=\"M0 0h24v24H0V0z\" fill=\"none\"/>\n",
              "    <path d=\"M18.56 5.44l.94 2.06.94-2.06 2.06-.94-2.06-.94-.94-2.06-.94 2.06-2.06.94zm-11 1L8.5 8.5l.94-2.06 2.06-.94-2.06-.94L8.5 2.5l-.94 2.06-2.06.94zm10 10l.94 2.06.94-2.06 2.06-.94-2.06-.94-.94-2.06-.94 2.06-2.06.94z\"/><path d=\"M17.41 7.96l-1.37-1.37c-.4-.4-.92-.59-1.43-.59-.52 0-1.04.2-1.43.59L10.3 9.45l-7.72 7.72c-.78.78-.78 2.05 0 2.83L4 21.41c.39.39.9.59 1.41.59.51 0 1.02-.2 1.41-.59l7.78-7.78 2.81-2.81c.8-.78.8-2.07 0-2.86zM5.41 20L4 18.59l7.72-7.72 1.47 1.35L5.41 20z\"/>\n",
              "  </svg>\n",
              "      </button>\n",
              "      \n",
              "  <style>\n",
              "    .colab-df-container {\n",
              "      display:flex;\n",
              "      flex-wrap:wrap;\n",
              "      gap: 12px;\n",
              "    }\n",
              "\n",
              "    .colab-df-convert {\n",
              "      background-color: #E8F0FE;\n",
              "      border: none;\n",
              "      border-radius: 50%;\n",
              "      cursor: pointer;\n",
              "      display: none;\n",
              "      fill: #1967D2;\n",
              "      height: 32px;\n",
              "      padding: 0 0 0 0;\n",
              "      width: 32px;\n",
              "    }\n",
              "\n",
              "    .colab-df-convert:hover {\n",
              "      background-color: #E2EBFA;\n",
              "      box-shadow: 0px 1px 2px rgba(60, 64, 67, 0.3), 0px 1px 3px 1px rgba(60, 64, 67, 0.15);\n",
              "      fill: #174EA6;\n",
              "    }\n",
              "\n",
              "    [theme=dark] .colab-df-convert {\n",
              "      background-color: #3B4455;\n",
              "      fill: #D2E3FC;\n",
              "    }\n",
              "\n",
              "    [theme=dark] .colab-df-convert:hover {\n",
              "      background-color: #434B5C;\n",
              "      box-shadow: 0px 1px 3px 1px rgba(0, 0, 0, 0.15);\n",
              "      filter: drop-shadow(0px 1px 2px rgba(0, 0, 0, 0.3));\n",
              "      fill: #FFFFFF;\n",
              "    }\n",
              "  </style>\n",
              "\n",
              "      <script>\n",
              "        const buttonEl =\n",
              "          document.querySelector('#df-7add14e9-9d43-4dd7-aeb7-3c5c83f425b8 button.colab-df-convert');\n",
              "        buttonEl.style.display =\n",
              "          google.colab.kernel.accessAllowed ? 'block' : 'none';\n",
              "\n",
              "        async function convertToInteractive(key) {\n",
              "          const element = document.querySelector('#df-7add14e9-9d43-4dd7-aeb7-3c5c83f425b8');\n",
              "          const dataTable =\n",
              "            await google.colab.kernel.invokeFunction('convertToInteractive',\n",
              "                                                     [key], {});\n",
              "          if (!dataTable) return;\n",
              "\n",
              "          const docLinkHtml = 'Like what you see? Visit the ' +\n",
              "            '<a target=\"_blank\" href=https://colab.research.google.com/notebooks/data_table.ipynb>data table notebook</a>'\n",
              "            + ' to learn more about interactive tables.';\n",
              "          element.innerHTML = '';\n",
              "          dataTable['output_type'] = 'display_data';\n",
              "          await google.colab.output.renderOutput(dataTable, element);\n",
              "          const docLink = document.createElement('div');\n",
              "          docLink.innerHTML = docLinkHtml;\n",
              "          element.appendChild(docLink);\n",
              "        }\n",
              "      </script>\n",
              "    </div>\n",
              "  </div>\n",
              "  "
            ]
          },
          "metadata": {},
          "execution_count": 4
        }
      ]
    },
    {
      "cell_type": "code",
      "source": [
        "data.tail()"
      ],
      "metadata": {
        "colab": {
          "base_uri": "https://localhost:8080/",
          "height": 206
        },
        "id": "IAUOv33unNr-",
        "outputId": "b596ec70-1d05-4b91-f2b6-9e27643a901e"
      },
      "execution_count": null,
      "outputs": [
        {
          "output_type": "execute_result",
          "data": {
            "text/plain": [
              "                                                  Review  Rating\n",
              "20486  best kept secret 3rd time staying charm, not 5...       5\n",
              "20487  great location price view hotel great quick pl...       4\n",
              "20488  ok just looks nice modern outside, desk staff ...       2\n",
              "20489  hotel theft ruined vacation hotel opened sept ...       1\n",
              "20490  people talking, ca n't believe excellent ratin...       2"
            ],
            "text/html": [
              "\n",
              "  <div id=\"df-c6a069d3-660d-4fa0-9fae-4fc91ff4a37e\">\n",
              "    <div class=\"colab-df-container\">\n",
              "      <div>\n",
              "<style scoped>\n",
              "    .dataframe tbody tr th:only-of-type {\n",
              "        vertical-align: middle;\n",
              "    }\n",
              "\n",
              "    .dataframe tbody tr th {\n",
              "        vertical-align: top;\n",
              "    }\n",
              "\n",
              "    .dataframe thead th {\n",
              "        text-align: right;\n",
              "    }\n",
              "</style>\n",
              "<table border=\"1\" class=\"dataframe\">\n",
              "  <thead>\n",
              "    <tr style=\"text-align: right;\">\n",
              "      <th></th>\n",
              "      <th>Review</th>\n",
              "      <th>Rating</th>\n",
              "    </tr>\n",
              "  </thead>\n",
              "  <tbody>\n",
              "    <tr>\n",
              "      <th>20486</th>\n",
              "      <td>best kept secret 3rd time staying charm, not 5...</td>\n",
              "      <td>5</td>\n",
              "    </tr>\n",
              "    <tr>\n",
              "      <th>20487</th>\n",
              "      <td>great location price view hotel great quick pl...</td>\n",
              "      <td>4</td>\n",
              "    </tr>\n",
              "    <tr>\n",
              "      <th>20488</th>\n",
              "      <td>ok just looks nice modern outside, desk staff ...</td>\n",
              "      <td>2</td>\n",
              "    </tr>\n",
              "    <tr>\n",
              "      <th>20489</th>\n",
              "      <td>hotel theft ruined vacation hotel opened sept ...</td>\n",
              "      <td>1</td>\n",
              "    </tr>\n",
              "    <tr>\n",
              "      <th>20490</th>\n",
              "      <td>people talking, ca n't believe excellent ratin...</td>\n",
              "      <td>2</td>\n",
              "    </tr>\n",
              "  </tbody>\n",
              "</table>\n",
              "</div>\n",
              "      <button class=\"colab-df-convert\" onclick=\"convertToInteractive('df-c6a069d3-660d-4fa0-9fae-4fc91ff4a37e')\"\n",
              "              title=\"Convert this dataframe to an interactive table.\"\n",
              "              style=\"display:none;\">\n",
              "        \n",
              "  <svg xmlns=\"http://www.w3.org/2000/svg\" height=\"24px\"viewBox=\"0 0 24 24\"\n",
              "       width=\"24px\">\n",
              "    <path d=\"M0 0h24v24H0V0z\" fill=\"none\"/>\n",
              "    <path d=\"M18.56 5.44l.94 2.06.94-2.06 2.06-.94-2.06-.94-.94-2.06-.94 2.06-2.06.94zm-11 1L8.5 8.5l.94-2.06 2.06-.94-2.06-.94L8.5 2.5l-.94 2.06-2.06.94zm10 10l.94 2.06.94-2.06 2.06-.94-2.06-.94-.94-2.06-.94 2.06-2.06.94z\"/><path d=\"M17.41 7.96l-1.37-1.37c-.4-.4-.92-.59-1.43-.59-.52 0-1.04.2-1.43.59L10.3 9.45l-7.72 7.72c-.78.78-.78 2.05 0 2.83L4 21.41c.39.39.9.59 1.41.59.51 0 1.02-.2 1.41-.59l7.78-7.78 2.81-2.81c.8-.78.8-2.07 0-2.86zM5.41 20L4 18.59l7.72-7.72 1.47 1.35L5.41 20z\"/>\n",
              "  </svg>\n",
              "      </button>\n",
              "      \n",
              "  <style>\n",
              "    .colab-df-container {\n",
              "      display:flex;\n",
              "      flex-wrap:wrap;\n",
              "      gap: 12px;\n",
              "    }\n",
              "\n",
              "    .colab-df-convert {\n",
              "      background-color: #E8F0FE;\n",
              "      border: none;\n",
              "      border-radius: 50%;\n",
              "      cursor: pointer;\n",
              "      display: none;\n",
              "      fill: #1967D2;\n",
              "      height: 32px;\n",
              "      padding: 0 0 0 0;\n",
              "      width: 32px;\n",
              "    }\n",
              "\n",
              "    .colab-df-convert:hover {\n",
              "      background-color: #E2EBFA;\n",
              "      box-shadow: 0px 1px 2px rgba(60, 64, 67, 0.3), 0px 1px 3px 1px rgba(60, 64, 67, 0.15);\n",
              "      fill: #174EA6;\n",
              "    }\n",
              "\n",
              "    [theme=dark] .colab-df-convert {\n",
              "      background-color: #3B4455;\n",
              "      fill: #D2E3FC;\n",
              "    }\n",
              "\n",
              "    [theme=dark] .colab-df-convert:hover {\n",
              "      background-color: #434B5C;\n",
              "      box-shadow: 0px 1px 3px 1px rgba(0, 0, 0, 0.15);\n",
              "      filter: drop-shadow(0px 1px 2px rgba(0, 0, 0, 0.3));\n",
              "      fill: #FFFFFF;\n",
              "    }\n",
              "  </style>\n",
              "\n",
              "      <script>\n",
              "        const buttonEl =\n",
              "          document.querySelector('#df-c6a069d3-660d-4fa0-9fae-4fc91ff4a37e button.colab-df-convert');\n",
              "        buttonEl.style.display =\n",
              "          google.colab.kernel.accessAllowed ? 'block' : 'none';\n",
              "\n",
              "        async function convertToInteractive(key) {\n",
              "          const element = document.querySelector('#df-c6a069d3-660d-4fa0-9fae-4fc91ff4a37e');\n",
              "          const dataTable =\n",
              "            await google.colab.kernel.invokeFunction('convertToInteractive',\n",
              "                                                     [key], {});\n",
              "          if (!dataTable) return;\n",
              "\n",
              "          const docLinkHtml = 'Like what you see? Visit the ' +\n",
              "            '<a target=\"_blank\" href=https://colab.research.google.com/notebooks/data_table.ipynb>data table notebook</a>'\n",
              "            + ' to learn more about interactive tables.';\n",
              "          element.innerHTML = '';\n",
              "          dataTable['output_type'] = 'display_data';\n",
              "          await google.colab.output.renderOutput(dataTable, element);\n",
              "          const docLink = document.createElement('div');\n",
              "          docLink.innerHTML = docLinkHtml;\n",
              "          element.appendChild(docLink);\n",
              "        }\n",
              "      </script>\n",
              "    </div>\n",
              "  </div>\n",
              "  "
            ]
          },
          "metadata": {},
          "execution_count": 8
        }
      ]
    },
    {
      "cell_type": "code",
      "source": [
        "data.isnull().any()"
      ],
      "metadata": {
        "colab": {
          "base_uri": "https://localhost:8080/"
        },
        "id": "aI6WkoyO5i3H",
        "outputId": "6ad045aa-815f-4c40-8219-f86745c7f17d"
      },
      "execution_count": null,
      "outputs": [
        {
          "output_type": "execute_result",
          "data": {
            "text/plain": [
              "Review    False\n",
              "Rating    False\n",
              "dtype: bool"
            ]
          },
          "metadata": {},
          "execution_count": 7
        }
      ]
    },
    {
      "cell_type": "markdown",
      "source": [
        "Here we can see that our csv file has 3 columns and Rating is the dependent varibale and there no any null value"
      ],
      "metadata": {
        "id": "fcXERB6EOgQQ"
      }
    },
    {
      "cell_type": "code",
      "source": [
        "data['Rating'].value_counts()"
      ],
      "metadata": {
        "colab": {
          "base_uri": "https://localhost:8080/"
        },
        "id": "84A6tMa152hG",
        "outputId": "8020ae69-7ec8-492f-dae9-ac6af1d516ba"
      },
      "execution_count": null,
      "outputs": [
        {
          "output_type": "execute_result",
          "data": {
            "text/plain": [
              "5    9054\n",
              "4    6039\n",
              "3    2184\n",
              "2    1793\n",
              "1    1421\n",
              "Name: Rating, dtype: int64"
            ]
          },
          "metadata": {},
          "execution_count": 9
        }
      ]
    },
    {
      "cell_type": "code",
      "source": [
        "#mapping the values of rating\n",
        "data['Sentiment'] = data['Rating'].apply(lambda x:'negative' if x in [1,2] else ('neutral' if x==3 else 'positive'))"
      ],
      "metadata": {
        "id": "g3zSj35_5_y8"
      },
      "execution_count": null,
      "outputs": []
    },
    {
      "cell_type": "markdown",
      "source": [
        "Here we have created a new columns in the data named Sentiment where we have classified the data from Raating Column. Here 1,2 is considered as \"Negative\", 3 is \"Neutral\" and 4, 5 is \"Positive\"."
      ],
      "metadata": {
        "id": "TU7omvZfnxwq"
      }
    },
    {
      "cell_type": "code",
      "source": [
        "data.head()"
      ],
      "metadata": {
        "colab": {
          "base_uri": "https://localhost:8080/",
          "height": 206
        },
        "id": "WYPwDWWH7pvm",
        "outputId": "c2d4c2e9-ac28-4923-963b-f05dde4222cb"
      },
      "execution_count": null,
      "outputs": [
        {
          "output_type": "execute_result",
          "data": {
            "text/plain": [
              "                                              Review  Rating Sentiment\n",
              "0  nice hotel expensive parking got good deal sta...       4  positive\n",
              "1  ok nothing special charge diamond member hilto...       2  negative\n",
              "2  nice rooms not 4* experience hotel monaco seat...       3   neutral\n",
              "3  unique, great stay, wonderful time hotel monac...       5  positive\n",
              "4  great stay great stay, went seahawk game aweso...       5  positive"
            ],
            "text/html": [
              "\n",
              "  <div id=\"df-0618c424-ed8a-4f51-9843-8cf300ade5cd\">\n",
              "    <div class=\"colab-df-container\">\n",
              "      <div>\n",
              "<style scoped>\n",
              "    .dataframe tbody tr th:only-of-type {\n",
              "        vertical-align: middle;\n",
              "    }\n",
              "\n",
              "    .dataframe tbody tr th {\n",
              "        vertical-align: top;\n",
              "    }\n",
              "\n",
              "    .dataframe thead th {\n",
              "        text-align: right;\n",
              "    }\n",
              "</style>\n",
              "<table border=\"1\" class=\"dataframe\">\n",
              "  <thead>\n",
              "    <tr style=\"text-align: right;\">\n",
              "      <th></th>\n",
              "      <th>Review</th>\n",
              "      <th>Rating</th>\n",
              "      <th>Sentiment</th>\n",
              "    </tr>\n",
              "  </thead>\n",
              "  <tbody>\n",
              "    <tr>\n",
              "      <th>0</th>\n",
              "      <td>nice hotel expensive parking got good deal sta...</td>\n",
              "      <td>4</td>\n",
              "      <td>positive</td>\n",
              "    </tr>\n",
              "    <tr>\n",
              "      <th>1</th>\n",
              "      <td>ok nothing special charge diamond member hilto...</td>\n",
              "      <td>2</td>\n",
              "      <td>negative</td>\n",
              "    </tr>\n",
              "    <tr>\n",
              "      <th>2</th>\n",
              "      <td>nice rooms not 4* experience hotel monaco seat...</td>\n",
              "      <td>3</td>\n",
              "      <td>neutral</td>\n",
              "    </tr>\n",
              "    <tr>\n",
              "      <th>3</th>\n",
              "      <td>unique, great stay, wonderful time hotel monac...</td>\n",
              "      <td>5</td>\n",
              "      <td>positive</td>\n",
              "    </tr>\n",
              "    <tr>\n",
              "      <th>4</th>\n",
              "      <td>great stay great stay, went seahawk game aweso...</td>\n",
              "      <td>5</td>\n",
              "      <td>positive</td>\n",
              "    </tr>\n",
              "  </tbody>\n",
              "</table>\n",
              "</div>\n",
              "      <button class=\"colab-df-convert\" onclick=\"convertToInteractive('df-0618c424-ed8a-4f51-9843-8cf300ade5cd')\"\n",
              "              title=\"Convert this dataframe to an interactive table.\"\n",
              "              style=\"display:none;\">\n",
              "        \n",
              "  <svg xmlns=\"http://www.w3.org/2000/svg\" height=\"24px\"viewBox=\"0 0 24 24\"\n",
              "       width=\"24px\">\n",
              "    <path d=\"M0 0h24v24H0V0z\" fill=\"none\"/>\n",
              "    <path d=\"M18.56 5.44l.94 2.06.94-2.06 2.06-.94-2.06-.94-.94-2.06-.94 2.06-2.06.94zm-11 1L8.5 8.5l.94-2.06 2.06-.94-2.06-.94L8.5 2.5l-.94 2.06-2.06.94zm10 10l.94 2.06.94-2.06 2.06-.94-2.06-.94-.94-2.06-.94 2.06-2.06.94z\"/><path d=\"M17.41 7.96l-1.37-1.37c-.4-.4-.92-.59-1.43-.59-.52 0-1.04.2-1.43.59L10.3 9.45l-7.72 7.72c-.78.78-.78 2.05 0 2.83L4 21.41c.39.39.9.59 1.41.59.51 0 1.02-.2 1.41-.59l7.78-7.78 2.81-2.81c.8-.78.8-2.07 0-2.86zM5.41 20L4 18.59l7.72-7.72 1.47 1.35L5.41 20z\"/>\n",
              "  </svg>\n",
              "      </button>\n",
              "      \n",
              "  <style>\n",
              "    .colab-df-container {\n",
              "      display:flex;\n",
              "      flex-wrap:wrap;\n",
              "      gap: 12px;\n",
              "    }\n",
              "\n",
              "    .colab-df-convert {\n",
              "      background-color: #E8F0FE;\n",
              "      border: none;\n",
              "      border-radius: 50%;\n",
              "      cursor: pointer;\n",
              "      display: none;\n",
              "      fill: #1967D2;\n",
              "      height: 32px;\n",
              "      padding: 0 0 0 0;\n",
              "      width: 32px;\n",
              "    }\n",
              "\n",
              "    .colab-df-convert:hover {\n",
              "      background-color: #E2EBFA;\n",
              "      box-shadow: 0px 1px 2px rgba(60, 64, 67, 0.3), 0px 1px 3px 1px rgba(60, 64, 67, 0.15);\n",
              "      fill: #174EA6;\n",
              "    }\n",
              "\n",
              "    [theme=dark] .colab-df-convert {\n",
              "      background-color: #3B4455;\n",
              "      fill: #D2E3FC;\n",
              "    }\n",
              "\n",
              "    [theme=dark] .colab-df-convert:hover {\n",
              "      background-color: #434B5C;\n",
              "      box-shadow: 0px 1px 3px 1px rgba(0, 0, 0, 0.15);\n",
              "      filter: drop-shadow(0px 1px 2px rgba(0, 0, 0, 0.3));\n",
              "      fill: #FFFFFF;\n",
              "    }\n",
              "  </style>\n",
              "\n",
              "      <script>\n",
              "        const buttonEl =\n",
              "          document.querySelector('#df-0618c424-ed8a-4f51-9843-8cf300ade5cd button.colab-df-convert');\n",
              "        buttonEl.style.display =\n",
              "          google.colab.kernel.accessAllowed ? 'block' : 'none';\n",
              "\n",
              "        async function convertToInteractive(key) {\n",
              "          const element = document.querySelector('#df-0618c424-ed8a-4f51-9843-8cf300ade5cd');\n",
              "          const dataTable =\n",
              "            await google.colab.kernel.invokeFunction('convertToInteractive',\n",
              "                                                     [key], {});\n",
              "          if (!dataTable) return;\n",
              "\n",
              "          const docLinkHtml = 'Like what you see? Visit the ' +\n",
              "            '<a target=\"_blank\" href=https://colab.research.google.com/notebooks/data_table.ipynb>data table notebook</a>'\n",
              "            + ' to learn more about interactive tables.';\n",
              "          element.innerHTML = '';\n",
              "          dataTable['output_type'] = 'display_data';\n",
              "          await google.colab.output.renderOutput(dataTable, element);\n",
              "          const docLink = document.createElement('div');\n",
              "          docLink.innerHTML = docLinkHtml;\n",
              "          element.appendChild(docLink);\n",
              "        }\n",
              "      </script>\n",
              "    </div>\n",
              "  </div>\n",
              "  "
            ]
          },
          "metadata": {},
          "execution_count": 11
        }
      ]
    },
    {
      "cell_type": "markdown",
      "source": [
        "Now we can see that column sentiment is added as per the classification."
      ],
      "metadata": {
        "id": "DvhlX-yvoK09"
      }
    },
    {
      "cell_type": "markdown",
      "source": [
        "## **Data Cleaning**"
      ],
      "metadata": {
        "id": "hz4X7-5w8Gdz"
      }
    },
    {
      "cell_type": "code",
      "source": [
        "'''\n",
        "(?i) makes the regex case-insensitive.\n",
        "\\b asserts the position at a word boundary (the start or end of a word).\n",
        "(\\w+) captures one or more word characters (letters, digits, or underscores) and puts them in a capturing group.\n",
        "\\s+ matches one or more whitespace characters (spaces, tabs, or line breaks).\n",
        "'''\n",
        "def clean_data(text):\n",
        "    text = re.sub(r'\\d+', '', text)  # removing digits from the data\n",
        "    text = re.sub(r\"(?i)\\b(\\w+)\\s+n't\\b\", r\"\\1n't\", text) # converting the words like ca n't to can't\n",
        "    text = contractions.fix(text)  # contractions expand, expanding the words like cant to cannot\n",
        "    text = re.sub(r'[^\\w\\s]', '', text)  # removing punctuations\n",
        "    text = text.lower()  # converting the processed data to lowercase\n",
        "    return text\n",
        "data['Cleaned_review'] = data['Review'].apply(clean_data) # applying the data cleaning funciton in the dataset"
      ],
      "metadata": {
        "id": "UpqV0qMU8CaB"
      },
      "execution_count": null,
      "outputs": []
    },
    {
      "cell_type": "markdown",
      "source": [
        "Since we cannot observe all the data, we have listed some possible data cleaning methods. Here we have created a function that passes the Reviews text data and cleans it.\n",
        "\n",
        "First we have removed all the digits that the data contains, then there were some word that contained (ca n't) words so we converted that into real word (can't) using regular expression (regex).\n",
        "\n",
        "Then we used contractions to change the words like can't to cannot, then we removed all the punctuations and lowered all the texts."
      ],
      "metadata": {
        "id": "AhKLHJ8RoSaf"
      }
    },
    {
      "cell_type": "code",
      "source": [
        "data.head() #checking the cleaned data"
      ],
      "metadata": {
        "colab": {
          "base_uri": "https://localhost:8080/",
          "height": 206
        },
        "id": "5gt0MB2v8hQ_",
        "outputId": "60762831-79d1-49e5-9edd-0a01dadcc2eb"
      },
      "execution_count": null,
      "outputs": [
        {
          "output_type": "execute_result",
          "data": {
            "text/plain": [
              "                                              Review  Rating Sentiment  \\\n",
              "0  nice hotel expensive parking got good deal sta...       4  positive   \n",
              "1  ok nothing special charge diamond member hilto...       2  negative   \n",
              "2  nice rooms not 4* experience hotel monaco seat...       3   neutral   \n",
              "3  unique, great stay, wonderful time hotel monac...       5  positive   \n",
              "4  great stay great stay, went seahawk game aweso...       5  positive   \n",
              "\n",
              "                                      Cleaned_review  \n",
              "0  nice hotel expensive parking got good deal sta...  \n",
              "1  ok nothing special charge diamond member hilto...  \n",
              "2  nice rooms not  experience hotel monaco seattl...  \n",
              "3  unique great stay wonderful time hotel monaco ...  \n",
              "4  great stay great stay went seahawk game awesom...  "
            ],
            "text/html": [
              "\n",
              "  <div id=\"df-bf84ed86-9af7-43ae-8088-e59a372aac3a\">\n",
              "    <div class=\"colab-df-container\">\n",
              "      <div>\n",
              "<style scoped>\n",
              "    .dataframe tbody tr th:only-of-type {\n",
              "        vertical-align: middle;\n",
              "    }\n",
              "\n",
              "    .dataframe tbody tr th {\n",
              "        vertical-align: top;\n",
              "    }\n",
              "\n",
              "    .dataframe thead th {\n",
              "        text-align: right;\n",
              "    }\n",
              "</style>\n",
              "<table border=\"1\" class=\"dataframe\">\n",
              "  <thead>\n",
              "    <tr style=\"text-align: right;\">\n",
              "      <th></th>\n",
              "      <th>Review</th>\n",
              "      <th>Rating</th>\n",
              "      <th>Sentiment</th>\n",
              "      <th>Cleaned_review</th>\n",
              "    </tr>\n",
              "  </thead>\n",
              "  <tbody>\n",
              "    <tr>\n",
              "      <th>0</th>\n",
              "      <td>nice hotel expensive parking got good deal sta...</td>\n",
              "      <td>4</td>\n",
              "      <td>positive</td>\n",
              "      <td>nice hotel expensive parking got good deal sta...</td>\n",
              "    </tr>\n",
              "    <tr>\n",
              "      <th>1</th>\n",
              "      <td>ok nothing special charge diamond member hilto...</td>\n",
              "      <td>2</td>\n",
              "      <td>negative</td>\n",
              "      <td>ok nothing special charge diamond member hilto...</td>\n",
              "    </tr>\n",
              "    <tr>\n",
              "      <th>2</th>\n",
              "      <td>nice rooms not 4* experience hotel monaco seat...</td>\n",
              "      <td>3</td>\n",
              "      <td>neutral</td>\n",
              "      <td>nice rooms not  experience hotel monaco seattl...</td>\n",
              "    </tr>\n",
              "    <tr>\n",
              "      <th>3</th>\n",
              "      <td>unique, great stay, wonderful time hotel monac...</td>\n",
              "      <td>5</td>\n",
              "      <td>positive</td>\n",
              "      <td>unique great stay wonderful time hotel monaco ...</td>\n",
              "    </tr>\n",
              "    <tr>\n",
              "      <th>4</th>\n",
              "      <td>great stay great stay, went seahawk game aweso...</td>\n",
              "      <td>5</td>\n",
              "      <td>positive</td>\n",
              "      <td>great stay great stay went seahawk game awesom...</td>\n",
              "    </tr>\n",
              "  </tbody>\n",
              "</table>\n",
              "</div>\n",
              "      <button class=\"colab-df-convert\" onclick=\"convertToInteractive('df-bf84ed86-9af7-43ae-8088-e59a372aac3a')\"\n",
              "              title=\"Convert this dataframe to an interactive table.\"\n",
              "              style=\"display:none;\">\n",
              "        \n",
              "  <svg xmlns=\"http://www.w3.org/2000/svg\" height=\"24px\"viewBox=\"0 0 24 24\"\n",
              "       width=\"24px\">\n",
              "    <path d=\"M0 0h24v24H0V0z\" fill=\"none\"/>\n",
              "    <path d=\"M18.56 5.44l.94 2.06.94-2.06 2.06-.94-2.06-.94-.94-2.06-.94 2.06-2.06.94zm-11 1L8.5 8.5l.94-2.06 2.06-.94-2.06-.94L8.5 2.5l-.94 2.06-2.06.94zm10 10l.94 2.06.94-2.06 2.06-.94-2.06-.94-.94-2.06-.94 2.06-2.06.94z\"/><path d=\"M17.41 7.96l-1.37-1.37c-.4-.4-.92-.59-1.43-.59-.52 0-1.04.2-1.43.59L10.3 9.45l-7.72 7.72c-.78.78-.78 2.05 0 2.83L4 21.41c.39.39.9.59 1.41.59.51 0 1.02-.2 1.41-.59l7.78-7.78 2.81-2.81c.8-.78.8-2.07 0-2.86zM5.41 20L4 18.59l7.72-7.72 1.47 1.35L5.41 20z\"/>\n",
              "  </svg>\n",
              "      </button>\n",
              "      \n",
              "  <style>\n",
              "    .colab-df-container {\n",
              "      display:flex;\n",
              "      flex-wrap:wrap;\n",
              "      gap: 12px;\n",
              "    }\n",
              "\n",
              "    .colab-df-convert {\n",
              "      background-color: #E8F0FE;\n",
              "      border: none;\n",
              "      border-radius: 50%;\n",
              "      cursor: pointer;\n",
              "      display: none;\n",
              "      fill: #1967D2;\n",
              "      height: 32px;\n",
              "      padding: 0 0 0 0;\n",
              "      width: 32px;\n",
              "    }\n",
              "\n",
              "    .colab-df-convert:hover {\n",
              "      background-color: #E2EBFA;\n",
              "      box-shadow: 0px 1px 2px rgba(60, 64, 67, 0.3), 0px 1px 3px 1px rgba(60, 64, 67, 0.15);\n",
              "      fill: #174EA6;\n",
              "    }\n",
              "\n",
              "    [theme=dark] .colab-df-convert {\n",
              "      background-color: #3B4455;\n",
              "      fill: #D2E3FC;\n",
              "    }\n",
              "\n",
              "    [theme=dark] .colab-df-convert:hover {\n",
              "      background-color: #434B5C;\n",
              "      box-shadow: 0px 1px 3px 1px rgba(0, 0, 0, 0.15);\n",
              "      filter: drop-shadow(0px 1px 2px rgba(0, 0, 0, 0.3));\n",
              "      fill: #FFFFFF;\n",
              "    }\n",
              "  </style>\n",
              "\n",
              "      <script>\n",
              "        const buttonEl =\n",
              "          document.querySelector('#df-bf84ed86-9af7-43ae-8088-e59a372aac3a button.colab-df-convert');\n",
              "        buttonEl.style.display =\n",
              "          google.colab.kernel.accessAllowed ? 'block' : 'none';\n",
              "\n",
              "        async function convertToInteractive(key) {\n",
              "          const element = document.querySelector('#df-bf84ed86-9af7-43ae-8088-e59a372aac3a');\n",
              "          const dataTable =\n",
              "            await google.colab.kernel.invokeFunction('convertToInteractive',\n",
              "                                                     [key], {});\n",
              "          if (!dataTable) return;\n",
              "\n",
              "          const docLinkHtml = 'Like what you see? Visit the ' +\n",
              "            '<a target=\"_blank\" href=https://colab.research.google.com/notebooks/data_table.ipynb>data table notebook</a>'\n",
              "            + ' to learn more about interactive tables.';\n",
              "          element.innerHTML = '';\n",
              "          dataTable['output_type'] = 'display_data';\n",
              "          await google.colab.output.renderOutput(dataTable, element);\n",
              "          const docLink = document.createElement('div');\n",
              "          docLink.innerHTML = docLinkHtml;\n",
              "          element.appendChild(docLink);\n",
              "        }\n",
              "      </script>\n",
              "    </div>\n",
              "  </div>\n",
              "  "
            ]
          },
          "metadata": {},
          "execution_count": 13
        }
      ]
    },
    {
      "cell_type": "code",
      "source": [
        "# Performing tokenization using keras\n",
        "tokens = Tokenizer() #creating instance of tokenizer\n",
        "tokens.fit_on_texts(data['Cleaned_review']) #fitting the instance of tokenizer in the cleaned data\n",
        "sequences = tokens.texts_to_sequences(data['Cleaned_review']) #converting the data into sequence of integers\n",
        "word_index = tokens.word_index #python dictionary (where keys is words and values is indices assigned to each word)\n",
        "\n",
        "# Padding\n",
        "max_sequence_length = 256\n",
        "#adding values to the end of the sequences\n",
        "x = pad_sequences(sequences, maxlen=max_sequence_length)\n",
        "# one hot encode the rating column\n",
        "# converting categorical values to numerical values\n",
        "y = pd.get_dummies(data['Sentiment']).values"
      ],
      "metadata": {
        "id": "PQdJ3WmB9oZV"
      },
      "execution_count": null,
      "outputs": []
    },
    {
      "cell_type": "markdown",
      "source": [
        "Here now we have created an instance of the Tokenizer function from keras and fitted the instance into our cleaned data, then we converted the data into sequence of integers. After we converted the tokens into sequences we applied the word index to create a dictionary of the word keys and values of each word indices.\n",
        "\n",
        "Then we applied padding to the sequences of the tokens with maximum length of 256, this paading adds zeros to the emptied data. Then we denoted this padded sequences as x which is input data or features.\n",
        "\n",
        "Then we applied the concept of one hot encoding to change the categorical rating variables to numerical values. which is target variables or labels.\n",
        "\n",
        "\n",
        "\n"
      ],
      "metadata": {
        "id": "nRcpw48Lo_X1"
      }
    },
    {
      "cell_type": "code",
      "source": [
        "data['Sentiment'].unique() #printing all the unique values that the column contains"
      ],
      "metadata": {
        "colab": {
          "base_uri": "https://localhost:8080/"
        },
        "id": "vwYSloKg99EV",
        "outputId": "cd4454f7-ad02-42b5-9052-ccc3d7a16f9f"
      },
      "execution_count": null,
      "outputs": [
        {
          "output_type": "execute_result",
          "data": {
            "text/plain": [
              "array(['positive', 'negative', 'neutral'], dtype=object)"
            ]
          },
          "metadata": {},
          "execution_count": 15
        }
      ]
    },
    {
      "cell_type": "code",
      "source": [
        "data.head()"
      ],
      "metadata": {
        "colab": {
          "base_uri": "https://localhost:8080/",
          "height": 206
        },
        "id": "FEw2Nhz6-Cmx",
        "outputId": "1c43afb0-ba2c-4e02-96c0-72821e67b4c5"
      },
      "execution_count": null,
      "outputs": [
        {
          "output_type": "execute_result",
          "data": {
            "text/plain": [
              "                                              Review  Rating Sentiment  \\\n",
              "0  nice hotel expensive parking got good deal sta...       4  positive   \n",
              "1  ok nothing special charge diamond member hilto...       2  negative   \n",
              "2  nice rooms not 4* experience hotel monaco seat...       3   neutral   \n",
              "3  unique, great stay, wonderful time hotel monac...       5  positive   \n",
              "4  great stay great stay, went seahawk game aweso...       5  positive   \n",
              "\n",
              "                                      Cleaned_review  \n",
              "0  nice hotel expensive parking got good deal sta...  \n",
              "1  ok nothing special charge diamond member hilto...  \n",
              "2  nice rooms not  experience hotel monaco seattl...  \n",
              "3  unique great stay wonderful time hotel monaco ...  \n",
              "4  great stay great stay went seahawk game awesom...  "
            ],
            "text/html": [
              "\n",
              "  <div id=\"df-f4f94846-54ae-4ba9-874c-acd5ac80a939\">\n",
              "    <div class=\"colab-df-container\">\n",
              "      <div>\n",
              "<style scoped>\n",
              "    .dataframe tbody tr th:only-of-type {\n",
              "        vertical-align: middle;\n",
              "    }\n",
              "\n",
              "    .dataframe tbody tr th {\n",
              "        vertical-align: top;\n",
              "    }\n",
              "\n",
              "    .dataframe thead th {\n",
              "        text-align: right;\n",
              "    }\n",
              "</style>\n",
              "<table border=\"1\" class=\"dataframe\">\n",
              "  <thead>\n",
              "    <tr style=\"text-align: right;\">\n",
              "      <th></th>\n",
              "      <th>Review</th>\n",
              "      <th>Rating</th>\n",
              "      <th>Sentiment</th>\n",
              "      <th>Cleaned_review</th>\n",
              "    </tr>\n",
              "  </thead>\n",
              "  <tbody>\n",
              "    <tr>\n",
              "      <th>0</th>\n",
              "      <td>nice hotel expensive parking got good deal sta...</td>\n",
              "      <td>4</td>\n",
              "      <td>positive</td>\n",
              "      <td>nice hotel expensive parking got good deal sta...</td>\n",
              "    </tr>\n",
              "    <tr>\n",
              "      <th>1</th>\n",
              "      <td>ok nothing special charge diamond member hilto...</td>\n",
              "      <td>2</td>\n",
              "      <td>negative</td>\n",
              "      <td>ok nothing special charge diamond member hilto...</td>\n",
              "    </tr>\n",
              "    <tr>\n",
              "      <th>2</th>\n",
              "      <td>nice rooms not 4* experience hotel monaco seat...</td>\n",
              "      <td>3</td>\n",
              "      <td>neutral</td>\n",
              "      <td>nice rooms not  experience hotel monaco seattl...</td>\n",
              "    </tr>\n",
              "    <tr>\n",
              "      <th>3</th>\n",
              "      <td>unique, great stay, wonderful time hotel monac...</td>\n",
              "      <td>5</td>\n",
              "      <td>positive</td>\n",
              "      <td>unique great stay wonderful time hotel monaco ...</td>\n",
              "    </tr>\n",
              "    <tr>\n",
              "      <th>4</th>\n",
              "      <td>great stay great stay, went seahawk game aweso...</td>\n",
              "      <td>5</td>\n",
              "      <td>positive</td>\n",
              "      <td>great stay great stay went seahawk game awesom...</td>\n",
              "    </tr>\n",
              "  </tbody>\n",
              "</table>\n",
              "</div>\n",
              "      <button class=\"colab-df-convert\" onclick=\"convertToInteractive('df-f4f94846-54ae-4ba9-874c-acd5ac80a939')\"\n",
              "              title=\"Convert this dataframe to an interactive table.\"\n",
              "              style=\"display:none;\">\n",
              "        \n",
              "  <svg xmlns=\"http://www.w3.org/2000/svg\" height=\"24px\"viewBox=\"0 0 24 24\"\n",
              "       width=\"24px\">\n",
              "    <path d=\"M0 0h24v24H0V0z\" fill=\"none\"/>\n",
              "    <path d=\"M18.56 5.44l.94 2.06.94-2.06 2.06-.94-2.06-.94-.94-2.06-.94 2.06-2.06.94zm-11 1L8.5 8.5l.94-2.06 2.06-.94-2.06-.94L8.5 2.5l-.94 2.06-2.06.94zm10 10l.94 2.06.94-2.06 2.06-.94-2.06-.94-.94-2.06-.94 2.06-2.06.94z\"/><path d=\"M17.41 7.96l-1.37-1.37c-.4-.4-.92-.59-1.43-.59-.52 0-1.04.2-1.43.59L10.3 9.45l-7.72 7.72c-.78.78-.78 2.05 0 2.83L4 21.41c.39.39.9.59 1.41.59.51 0 1.02-.2 1.41-.59l7.78-7.78 2.81-2.81c.8-.78.8-2.07 0-2.86zM5.41 20L4 18.59l7.72-7.72 1.47 1.35L5.41 20z\"/>\n",
              "  </svg>\n",
              "      </button>\n",
              "      \n",
              "  <style>\n",
              "    .colab-df-container {\n",
              "      display:flex;\n",
              "      flex-wrap:wrap;\n",
              "      gap: 12px;\n",
              "    }\n",
              "\n",
              "    .colab-df-convert {\n",
              "      background-color: #E8F0FE;\n",
              "      border: none;\n",
              "      border-radius: 50%;\n",
              "      cursor: pointer;\n",
              "      display: none;\n",
              "      fill: #1967D2;\n",
              "      height: 32px;\n",
              "      padding: 0 0 0 0;\n",
              "      width: 32px;\n",
              "    }\n",
              "\n",
              "    .colab-df-convert:hover {\n",
              "      background-color: #E2EBFA;\n",
              "      box-shadow: 0px 1px 2px rgba(60, 64, 67, 0.3), 0px 1px 3px 1px rgba(60, 64, 67, 0.15);\n",
              "      fill: #174EA6;\n",
              "    }\n",
              "\n",
              "    [theme=dark] .colab-df-convert {\n",
              "      background-color: #3B4455;\n",
              "      fill: #D2E3FC;\n",
              "    }\n",
              "\n",
              "    [theme=dark] .colab-df-convert:hover {\n",
              "      background-color: #434B5C;\n",
              "      box-shadow: 0px 1px 3px 1px rgba(0, 0, 0, 0.15);\n",
              "      filter: drop-shadow(0px 1px 2px rgba(0, 0, 0, 0.3));\n",
              "      fill: #FFFFFF;\n",
              "    }\n",
              "  </style>\n",
              "\n",
              "      <script>\n",
              "        const buttonEl =\n",
              "          document.querySelector('#df-f4f94846-54ae-4ba9-874c-acd5ac80a939 button.colab-df-convert');\n",
              "        buttonEl.style.display =\n",
              "          google.colab.kernel.accessAllowed ? 'block' : 'none';\n",
              "\n",
              "        async function convertToInteractive(key) {\n",
              "          const element = document.querySelector('#df-f4f94846-54ae-4ba9-874c-acd5ac80a939');\n",
              "          const dataTable =\n",
              "            await google.colab.kernel.invokeFunction('convertToInteractive',\n",
              "                                                     [key], {});\n",
              "          if (!dataTable) return;\n",
              "\n",
              "          const docLinkHtml = 'Like what you see? Visit the ' +\n",
              "            '<a target=\"_blank\" href=https://colab.research.google.com/notebooks/data_table.ipynb>data table notebook</a>'\n",
              "            + ' to learn more about interactive tables.';\n",
              "          element.innerHTML = '';\n",
              "          dataTable['output_type'] = 'display_data';\n",
              "          await google.colab.output.renderOutput(dataTable, element);\n",
              "          const docLink = document.createElement('div');\n",
              "          docLink.innerHTML = docLinkHtml;\n",
              "          element.appendChild(docLink);\n",
              "        }\n",
              "      </script>\n",
              "    </div>\n",
              "  </div>\n",
              "  "
            ]
          },
          "metadata": {},
          "execution_count": 16
        }
      ]
    },
    {
      "cell_type": "code",
      "source": [
        "data.isnull().any() # checking null values in the cleaned data"
      ],
      "metadata": {
        "colab": {
          "base_uri": "https://localhost:8080/"
        },
        "id": "vflSQEgP-Ge3",
        "outputId": "4cce54af-20d9-4428-f4aa-7de8056ab90d"
      },
      "execution_count": null,
      "outputs": [
        {
          "output_type": "execute_result",
          "data": {
            "text/plain": [
              "Review            False\n",
              "Rating            False\n",
              "Sentiment         False\n",
              "Cleaned_review    False\n",
              "dtype: bool"
            ]
          },
          "metadata": {},
          "execution_count": 17
        }
      ]
    },
    {
      "cell_type": "markdown",
      "source": [
        "# **Data splitting**\n"
      ],
      "metadata": {
        "id": "Zd9dogGVYkvy"
      }
    },
    {
      "cell_type": "code",
      "source": [
        "#splitting the data into train and test\n",
        "x_train,x_test,y_train,y_test = train_test_split(x,y,test_size=0.2, random_state=42)"
      ],
      "metadata": {
        "id": "fS8QbotX-kf-"
      },
      "execution_count": null,
      "outputs": []
    },
    {
      "cell_type": "markdown",
      "source": [
        "Here we have splitted the data into train, test with test size 20% of the training sample and reproducibly random splitting the data."
      ],
      "metadata": {
        "id": "u-GndkJvqNaS"
      }
    },
    {
      "cell_type": "markdown",
      "source": [
        "# **Model Training and Model Comparison**"
      ],
      "metadata": {
        "id": "CAKy_vXLYnRv"
      }
    },
    {
      "cell_type": "markdown",
      "source": [
        "## **Model-1**\n",
        "#### Using only one dense layer as given in the question"
      ],
      "metadata": {
        "id": "jBElqcZR-rAc"
      }
    },
    {
      "cell_type": "code",
      "source": [
        "embedding_dim = 32\n",
        "l2_rate = 0.01\n",
        "dropout_rate = 0.3\n",
        "'''\n",
        "#Embedding layer - converting text data into dense vector\n",
        "# LSTM layer - modelling sequential data\n",
        "# Dropout layer - prevent overfitting by randomly dropping fraction of input\n",
        "# Dense layer - produce output of the model\n",
        "used regularizers to somehow prevent overfitting of the model\n",
        "return_sequences = false ensures that only one sequence of output is generated\n",
        "'''\n",
        "model = Sequential([\n",
        "    Embedding(len(word_index) + 1, embedding_dim, input_length=max_sequence_length),\n",
        "    LSTM(128, return_sequences=False),\n",
        "    Dropout(dropout_rate),\n",
        "    Dense(3, activation='softmax',kernel_regularizer=regularizers.l1(l2_rate))\n",
        "])\n",
        "model.compile(loss='categorical_crossentropy', optimizer='adam', metrics=['accuracy'])\n",
        "\n",
        "model.summary() #generating summary of the model"
      ],
      "metadata": {
        "id": "u7JBF5tY-pQJ",
        "colab": {
          "base_uri": "https://localhost:8080/"
        },
        "outputId": "55c82154-8c63-4668-f25a-9399b8d558e7"
      },
      "execution_count": null,
      "outputs": [
        {
          "output_type": "stream",
          "name": "stdout",
          "text": [
            "Model: \"sequential\"\n",
            "_________________________________________________________________\n",
            " Layer (type)                Output Shape              Param #   \n",
            "=================================================================\n",
            " embedding (Embedding)       (None, 256, 32)           2475904   \n",
            "                                                                 \n",
            " lstm (LSTM)                 (None, 128)               82432     \n",
            "                                                                 \n",
            " dropout (Dropout)           (None, 128)               0         \n",
            "                                                                 \n",
            " dense (Dense)               (None, 3)                 387       \n",
            "                                                                 \n",
            "=================================================================\n",
            "Total params: 2,558,723\n",
            "Trainable params: 2,558,723\n",
            "Non-trainable params: 0\n",
            "_________________________________________________________________\n"
          ]
        }
      ]
    },
    {
      "cell_type": "markdown",
      "source": [
        "After compiling the model we can observe the model summary where all the parameters are trainable parameters that can be used to fit on the model."
      ],
      "metadata": {
        "id": "HDDCUsAa6FYJ"
      }
    },
    {
      "cell_type": "code",
      "source": [
        "# Adding early stopping callback\n",
        "es = EarlyStopping(monitor='val_loss', mode='min', verbose=1, patience=3)\n",
        "\n",
        "# Training the model\n",
        "history = model.fit(x_train, y_train, validation_split=0.1, epochs=20, batch_size=64, callbacks=[es])"
      ],
      "metadata": {
        "colab": {
          "base_uri": "https://localhost:8080/"
        },
        "id": "5aZywP2XAh6z",
        "outputId": "8dce136d-0a32-43d4-a505-bd3cbdb61d82"
      },
      "execution_count": null,
      "outputs": [
        {
          "output_type": "stream",
          "name": "stdout",
          "text": [
            "Epoch 1/20\n",
            "231/231 [==============================] - 67s 234ms/step - loss: 0.8508 - accuracy: 0.7686 - val_loss: 0.5650 - val_accuracy: 0.8317\n",
            "Epoch 2/20\n",
            "231/231 [==============================] - 40s 172ms/step - loss: 0.5166 - accuracy: 0.8391 - val_loss: 0.5040 - val_accuracy: 0.8451\n",
            "Epoch 3/20\n",
            "231/231 [==============================] - 27s 116ms/step - loss: 0.3907 - accuracy: 0.8728 - val_loss: 0.4703 - val_accuracy: 0.8537\n",
            "Epoch 4/20\n",
            "231/231 [==============================] - 18s 77ms/step - loss: 0.3403 - accuracy: 0.8827 - val_loss: 0.4837 - val_accuracy: 0.8463\n",
            "Epoch 5/20\n",
            "231/231 [==============================] - 16s 71ms/step - loss: 0.3147 - accuracy: 0.9008 - val_loss: 0.5213 - val_accuracy: 0.8329\n",
            "Epoch 6/20\n",
            "231/231 [==============================] - 12s 53ms/step - loss: 0.2765 - accuracy: 0.9279 - val_loss: 0.5051 - val_accuracy: 0.8268\n",
            "Epoch 6: early stopping\n"
          ]
        }
      ]
    },
    {
      "cell_type": "markdown",
      "source": [
        "Here we have executed the model on 20 epochs and 64 batches, we have applied the concept of callbacks which is early stopping that monitors the validation loss of the data, where we have splitted the validation data to 10% of the total trainable data.<br>\n",
        "Also we can see that epoch has stopped on epoch no 6."
      ],
      "metadata": {
        "id": "jI42-imO6UYk"
      }
    },
    {
      "cell_type": "markdown",
      "source": [
        "## **Model-1 evaluation**"
      ],
      "metadata": {
        "id": "b0802cwrZXIz"
      }
    },
    {
      "cell_type": "code",
      "source": [
        "# Plotting the training/validation loss behavior\n",
        "import matplotlib.pyplot as plt\n",
        "\n",
        "plt.plot(history.history['loss'], label='train')\n",
        "plt.plot(history.history['val_loss'], label='validation')\n",
        "plt.xlabel('Epochs')\n",
        "plt.ylabel('Loss')\n",
        "plt.legend()\n",
        "plt.show()"
      ],
      "metadata": {
        "colab": {
          "base_uri": "https://localhost:8080/",
          "height": 449
        },
        "id": "H0GhOxIlA76c",
        "outputId": "7736448c-4788-4a1d-c985-9579e6836495"
      },
      "execution_count": null,
      "outputs": [
        {
          "output_type": "display_data",
          "data": {
            "text/plain": [
              "<Figure size 640x480 with 1 Axes>"
            ],
            "image/png": "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\n"
          },
          "metadata": {}
        }
      ]
    },
    {
      "cell_type": "markdown",
      "source": [
        "Here we can observe that the model we have complied tends to be overfitting, the training data is performing quite well to that of validation data."
      ],
      "metadata": {
        "id": "oJfJSdJL6tDG"
      }
    },
    {
      "cell_type": "markdown",
      "source": [
        "#### Calculating the accuracy of the model"
      ],
      "metadata": {
        "id": "bfgPSS_fsqWu"
      }
    },
    {
      "cell_type": "code",
      "source": [
        "from sklearn.metrics import confusion_matrix, classification_report, accuracy_score\n",
        "# Evaluating the model\n",
        "y_pred = model.predict(x_test)\n",
        "y_pred_classes = np.argmax(y_pred, axis=1)\n",
        "y_test_classes = np.argmax(y_test, axis=1)\n",
        "\n",
        "print(\"Accuracy:\", accuracy_score(y_test_classes, y_pred_classes))"
      ],
      "metadata": {
        "colab": {
          "base_uri": "https://localhost:8080/"
        },
        "id": "KpUpKiBXCWA6",
        "outputId": "2156f122-f95a-4dad-cdfc-d6c6f4f16785"
      },
      "execution_count": null,
      "outputs": [
        {
          "output_type": "stream",
          "name": "stdout",
          "text": [
            "129/129 [==============================] - 1s 6ms/step\n",
            "Accuracy: 0.8338619175408636\n"
          ]
        }
      ]
    },
    {
      "cell_type": "markdown",
      "source": [
        "After calulating the prediction of the model we can observe that the accuracy of our model is 83.4 % which is not a bad model, that can perform quite well."
      ],
      "metadata": {
        "id": "3eNopHNA65Fp"
      }
    },
    {
      "cell_type": "markdown",
      "source": [
        "#### Calculating the confusion matrix"
      ],
      "metadata": {
        "id": "elkqnCr_svRv"
      }
    },
    {
      "cell_type": "code",
      "source": [
        "print(\"\\nConfusion Matrix:\\n\", confusion_matrix(y_test_classes, y_pred_classes))"
      ],
      "metadata": {
        "colab": {
          "base_uri": "https://localhost:8080/"
        },
        "id": "GeS_SZnzCgiU",
        "outputId": "bfe2c8cb-2047-4849-dfba-91df993288f6"
      },
      "execution_count": null,
      "outputs": [
        {
          "output_type": "stream",
          "name": "stdout",
          "text": [
            "\n",
            "Confusion Matrix:\n",
            " [[ 435  124   66]\n",
            " [ 106  118  208]\n",
            " [  48  129 2865]]\n"
          ]
        }
      ]
    },
    {
      "cell_type": "markdown",
      "source": [
        "In the above confusion matrix, there are three classes (0, 1, and 2). The rows represent the actual classes, and the columns represent the predicted classes.\n",
        "\n",
        "The diagonal elements represent the number of correctly classified instances for each class.\n",
        "\n",
        "The off-diagonal elements represent the misclassifications."
      ],
      "metadata": {
        "id": "r7KfsOxEs-I1"
      }
    },
    {
      "cell_type": "markdown",
      "source": [
        "#### Generating classification reprot based on the confusion matrix"
      ],
      "metadata": {
        "id": "_uUxwH3AtPZz"
      }
    },
    {
      "cell_type": "code",
      "source": [
        "print(\"\\nClassification Report:\\n\", classification_report(y_test_classes, y_pred_classes))"
      ],
      "metadata": {
        "colab": {
          "base_uri": "https://localhost:8080/"
        },
        "id": "eGMHLa6uEtTk",
        "outputId": "bd6e0cf5-05e4-4f2a-8729-1a7accad4438"
      },
      "execution_count": null,
      "outputs": [
        {
          "output_type": "stream",
          "name": "stdout",
          "text": [
            "\n",
            "Classification Report:\n",
            "               precision    recall  f1-score   support\n",
            "\n",
            "           0       0.74      0.70      0.72       625\n",
            "           1       0.32      0.27      0.29       432\n",
            "           2       0.91      0.94      0.93      3042\n",
            "\n",
            "    accuracy                           0.83      4099\n",
            "   macro avg       0.66      0.64      0.65      4099\n",
            "weighted avg       0.82      0.83      0.83      4099\n",
            "\n"
          ]
        }
      ]
    },
    {
      "cell_type": "markdown",
      "source": [
        "#### Function to predict the input"
      ],
      "metadata": {
        "id": "HeqEmGWma-zT"
      }
    },
    {
      "cell_type": "code",
      "source": [
        "'''\n",
        "this function passes the text for prediction\n",
        "then cleans the text, tokenizes it, and returns to sequences\n",
        "then used padded sequences, and made predictions based on the text given\n",
        "'''\n",
        "## To test list of sample text\n",
        "def predict_sentiment(texts, model, tokenizer, max_sequence_length):\n",
        "    # Clean texts\n",
        "    texts_clean = [clean_data(text) for text in texts]\n",
        "\n",
        "    # Convert to sequences and pad\n",
        "    sequences = tokenizer.texts_to_sequences(texts_clean)\n",
        "    sequences_padded = pad_sequences(sequences, maxlen=max_sequence_length)\n",
        "\n",
        "    # Predict sentiments\n",
        "    predictions = model.predict(sequences_padded)\n",
        "    sentiments = np.argmax(predictions, axis=1)\n",
        "\n",
        "    # Map sentiment index to label\n",
        "    sentiment_labels = []\n",
        "    for sentiment in sentiments:\n",
        "        if sentiment == 0:\n",
        "            sentiment_labels.append(\"Negative\")\n",
        "        elif sentiment == 1:\n",
        "            sentiment_labels.append(\"Neutral\")\n",
        "        else:\n",
        "            sentiment_labels.append(\"Positive\")\n",
        "\n",
        "    return sentiment_labels"
      ],
      "metadata": {
        "id": "KtqHNwNFEvU5"
      },
      "execution_count": null,
      "outputs": []
    },
    {
      "cell_type": "markdown",
      "source": [
        "Checking the review"
      ],
      "metadata": {
        "id": "Wv0LBkzrbHsE"
      }
    },
    {
      "cell_type": "code",
      "source": [
        "texts = [\"bad location and unfriendly staff\", \"great food but not friendly service\", \"Very good service and food\"]\n",
        "sentiment_labels = predict_sentiment(texts, model, tokens, max_sequence_length)\n",
        "print(sentiment_labels)"
      ],
      "metadata": {
        "colab": {
          "base_uri": "https://localhost:8080/"
        },
        "id": "4Uwytn0RExKr",
        "outputId": "0ca530a0-e797-4919-c985-c29627bd9e03"
      },
      "execution_count": null,
      "outputs": [
        {
          "output_type": "stream",
          "name": "stdout",
          "text": [
            "1/1 [==============================] - 0s 125ms/step\n",
            "['Neutral', 'Positive', 'Positive']\n"
          ]
        }
      ]
    },
    {
      "cell_type": "markdown",
      "source": [
        "Here we have passed some strings into the function which predicts whether the review is positive or negative."
      ],
      "metadata": {
        "id": "i_2tUJ4q7Mjk"
      }
    },
    {
      "cell_type": "markdown",
      "source": [
        "## **Model-2**"
      ],
      "metadata": {
        "id": "oEa2OIPOFNul"
      }
    },
    {
      "cell_type": "markdown",
      "source": [
        "#### *Since our previous model performed well but the accuracy for test case didn't match so again we try to run the model by adding more layers to compile the model.*\n",
        "\n",
        "#### Increasing the number of layers while compiling the model"
      ],
      "metadata": {
        "id": "4qqzNZ7i7bXq"
      }
    },
    {
      "cell_type": "code",
      "source": [
        "from keras.layers import BatchNormalization\n",
        "from keras import optimizers\n",
        "\n",
        "embedding_dim2 = 32\n",
        "l2_rate2 = 0.01\n",
        "dropout_rate2 = 0.2\n",
        "max_sequence_length2 = 256\n",
        "\n",
        "model2 = Sequential([\n",
        "    Embedding(len(word_index) + 1, embedding_dim2, input_length=max_sequence_length2, trainable=True),\n",
        "    BatchNormalization(),\n",
        "    LSTM(64, return_sequences=True, kernel_regularizer=regularizers.l2(l2_rate2)),\n",
        "    Dropout(dropout_rate2),\n",
        "    BatchNormalization(),\n",
        "    LSTM(64, return_sequences=False, kernel_regularizer=regularizers.l2(l2_rate)),\n",
        "    Dropout(dropout_rate2),\n",
        "    BatchNormalization(),\n",
        "    Dense(32, activation='relu', kernel_regularizer=regularizers.l2(l2_rate)),\n",
        "    Dropout(dropout_rate2),\n",
        "    Dense(3, activation='softmax')\n",
        "])\n",
        "\n",
        "\n",
        "model2.compile(loss='categorical_crossentropy', optimizer='adam', metrics=['accuracy'])\n",
        "model2.summary()"
      ],
      "metadata": {
        "colab": {
          "base_uri": "https://localhost:8080/"
        },
        "id": "s5t4ZXdSE0Pb",
        "outputId": "fd0b0c29-c3f3-4aaf-8d78-c2fb5012a085"
      },
      "execution_count": null,
      "outputs": [
        {
          "output_type": "stream",
          "name": "stdout",
          "text": [
            "Model: \"sequential_1\"\n",
            "_________________________________________________________________\n",
            " Layer (type)                Output Shape              Param #   \n",
            "=================================================================\n",
            " embedding_1 (Embedding)     (None, 256, 32)           2475904   \n",
            "                                                                 \n",
            " batch_normalization (BatchN  (None, 256, 32)          128       \n",
            " ormalization)                                                   \n",
            "                                                                 \n",
            " lstm_1 (LSTM)               (None, 256, 64)           24832     \n",
            "                                                                 \n",
            " dropout_1 (Dropout)         (None, 256, 64)           0         \n",
            "                                                                 \n",
            " batch_normalization_1 (Batc  (None, 256, 64)          256       \n",
            " hNormalization)                                                 \n",
            "                                                                 \n",
            " lstm_2 (LSTM)               (None, 64)                33024     \n",
            "                                                                 \n",
            " dropout_2 (Dropout)         (None, 64)                0         \n",
            "                                                                 \n",
            " batch_normalization_2 (Batc  (None, 64)               256       \n",
            " hNormalization)                                                 \n",
            "                                                                 \n",
            " dense_1 (Dense)             (None, 32)                2080      \n",
            "                                                                 \n",
            " dropout_3 (Dropout)         (None, 32)                0         \n",
            "                                                                 \n",
            " dense_2 (Dense)             (None, 3)                 99        \n",
            "                                                                 \n",
            "=================================================================\n",
            "Total params: 2,536,579\n",
            "Trainable params: 2,536,259\n",
            "Non-trainable params: 320\n",
            "_________________________________________________________________\n"
          ]
        }
      ]
    },
    {
      "cell_type": "code",
      "source": [
        "eas = EarlyStopping(monitor='val_loss', mode='min', verbose=1, patience=3)\n",
        "\n",
        "# Model training\n",
        "history2 = model2.fit(x_train, y_train, validation_split=0.1, epochs=15, batch_size=32, callbacks=[eas])"
      ],
      "metadata": {
        "colab": {
          "base_uri": "https://localhost:8080/"
        },
        "id": "4XCEWoozFRxf",
        "outputId": "3f6fe3c7-b969-4a00-b162-9ec4738ecac9"
      },
      "execution_count": null,
      "outputs": [
        {
          "output_type": "stream",
          "name": "stdout",
          "text": [
            "Epoch 1/15\n",
            "461/461 [==============================] - 101s 205ms/step - loss: 1.5800 - accuracy: 0.7680 - val_loss: 0.9204 - val_accuracy: 0.8037\n",
            "Epoch 2/15\n",
            "461/461 [==============================] - 46s 101ms/step - loss: 0.6319 - accuracy: 0.8527 - val_loss: 0.5342 - val_accuracy: 0.8567\n",
            "Epoch 3/15\n",
            "461/461 [==============================] - 29s 64ms/step - loss: 0.3834 - accuracy: 0.8964 - val_loss: 0.5579 - val_accuracy: 0.8037\n",
            "Epoch 4/15\n",
            "461/461 [==============================] - 20s 44ms/step - loss: 0.2453 - accuracy: 0.9352 - val_loss: 0.5427 - val_accuracy: 0.8250\n",
            "Epoch 5/15\n",
            "461/461 [==============================] - 22s 49ms/step - loss: 0.1714 - accuracy: 0.9602 - val_loss: 0.6748 - val_accuracy: 0.8012\n",
            "Epoch 5: early stopping\n"
          ]
        }
      ]
    },
    {
      "cell_type": "markdown",
      "source": [
        "## **Model-2 Evaluation**"
      ],
      "metadata": {
        "id": "G8Eu_2Rmt6fE"
      }
    },
    {
      "cell_type": "markdown",
      "source": [
        "Graph between loss and validation loss"
      ],
      "metadata": {
        "id": "zE_sdX8IuCNE"
      }
    },
    {
      "cell_type": "code",
      "source": [
        "# Plot the training/validation loss behavior\n",
        "import matplotlib.pyplot as plt\n",
        "\n",
        "plt.plot(history2.history['loss'], label='train')\n",
        "plt.plot(history2.history['val_loss'], label='validation')\n",
        "plt.xlabel('Epochs')\n",
        "plt.ylabel('Loss')\n",
        "plt.legend()\n",
        "plt.show()"
      ],
      "metadata": {
        "colab": {
          "base_uri": "https://localhost:8080/",
          "height": 449
        },
        "id": "_M1_eZZUFu4u",
        "outputId": "456b09dd-ea44-4555-99e7-1c7f4960a4e1"
      },
      "execution_count": null,
      "outputs": [
        {
          "output_type": "display_data",
          "data": {
            "text/plain": [
              "<Figure size 640x480 with 1 Axes>"
            ],
            "image/png": "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\n"
          },
          "metadata": {}
        }
      ]
    },
    {
      "cell_type": "markdown",
      "source": [
        "Graph between accuracy and validation accuracy"
      ],
      "metadata": {
        "id": "_-bSvoq-uHZ4"
      }
    },
    {
      "cell_type": "code",
      "source": [
        "# Plot the training/validation loss behavior\n",
        "import matplotlib.pyplot as plt\n",
        "\n",
        "plt.plot(history2.history['accuracy'], label='train')\n",
        "plt.plot(history2.history['val_accuracy'], label='validation')\n",
        "plt.xlabel('Epochs')\n",
        "plt.ylabel('Loss')\n",
        "plt.legend()\n",
        "plt.show()"
      ],
      "metadata": {
        "colab": {
          "base_uri": "https://localhost:8080/",
          "height": 449
        },
        "id": "S0O_YpMAH4IN",
        "outputId": "c254019b-5d0b-4616-9a4c-6418ace24c2e"
      },
      "execution_count": null,
      "outputs": [
        {
          "output_type": "display_data",
          "data": {
            "text/plain": [
              "<Figure size 640x480 with 1 Axes>"
            ],
            "image/png": "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\n"
          },
          "metadata": {}
        }
      ]
    },
    {
      "cell_type": "markdown",
      "source": [
        "Calculating accuracy of the model"
      ],
      "metadata": {
        "id": "w_q1s6LCuPaX"
      }
    },
    {
      "cell_type": "code",
      "source": [
        "from sklearn.metrics import confusion_matrix, classification_report, accuracy_score\n",
        "# Evaluating the model\n",
        "y_pred = model.predict(x_test)\n",
        "y_pred_classes = np.argmax(y_pred, axis=1)\n",
        "y_test_classes = np.argmax(y_test, axis=1)\n",
        "\n",
        "print(\"Accuracy:\", accuracy_score(y_test_classes, y_pred_classes))"
      ],
      "metadata": {
        "colab": {
          "base_uri": "https://localhost:8080/"
        },
        "id": "-bEEUxpYbVqZ",
        "outputId": "6c944a93-fa50-488e-c4de-3f2236a12f42"
      },
      "execution_count": null,
      "outputs": [
        {
          "output_type": "stream",
          "name": "stdout",
          "text": [
            "129/129 [==============================] - 1s 5ms/step\n",
            "Accuracy: 0.8338619175408636\n"
          ]
        }
      ]
    },
    {
      "cell_type": "markdown",
      "source": [
        "Calculating confusion matrix"
      ],
      "metadata": {
        "id": "_fcKhC9xuUk4"
      }
    },
    {
      "cell_type": "code",
      "source": [
        "print(\"\\nConfusion Matrix:\\n\", confusion_matrix(y_test_classes, y_pred_classes))"
      ],
      "metadata": {
        "colab": {
          "base_uri": "https://localhost:8080/"
        },
        "id": "qWkjX9MzbfIO",
        "outputId": "f818aec2-2797-43c4-8e67-bc9cc0b352f1"
      },
      "execution_count": null,
      "outputs": [
        {
          "output_type": "stream",
          "name": "stdout",
          "text": [
            "\n",
            "Confusion Matrix:\n",
            " [[ 435  124   66]\n",
            " [ 106  118  208]\n",
            " [  48  129 2865]]\n"
          ]
        }
      ]
    },
    {
      "cell_type": "code",
      "source": [
        "print(\"\\nClassification Report:\\n\", classification_report(y_test_classes, y_pred_classes))"
      ],
      "metadata": {
        "colab": {
          "base_uri": "https://localhost:8080/"
        },
        "id": "BU1ZyZ1wbf9j",
        "outputId": "200ca8b4-1845-4332-8cd9-2fc1aad3412a"
      },
      "execution_count": null,
      "outputs": [
        {
          "output_type": "stream",
          "name": "stdout",
          "text": [
            "\n",
            "Classification Report:\n",
            "               precision    recall  f1-score   support\n",
            "\n",
            "           0       0.74      0.70      0.72       625\n",
            "           1       0.32      0.27      0.29       432\n",
            "           2       0.91      0.94      0.93      3042\n",
            "\n",
            "    accuracy                           0.83      4099\n",
            "   macro avg       0.66      0.64      0.65      4099\n",
            "weighted avg       0.82      0.83      0.83      4099\n",
            "\n"
          ]
        }
      ]
    },
    {
      "cell_type": "markdown",
      "source": [
        "Prediction from Model 2"
      ],
      "metadata": {
        "id": "m-kkz3lDudqq"
      }
    },
    {
      "cell_type": "code",
      "source": [
        "textss = [\"bad location and unfriendly staff\", \"great food but not friendly service\", \"good service and good food\"]\n",
        "sentiment_labels = predict_sentiment(textss, model2, tokens, max_sequence_length)\n",
        "print(sentiment_labels)"
      ],
      "metadata": {
        "colab": {
          "base_uri": "https://localhost:8080/"
        },
        "id": "ENcFppVuKW7o",
        "outputId": "84d9edb6-487c-4af7-9035-abfcb92fac8a"
      },
      "execution_count": null,
      "outputs": [
        {
          "output_type": "stream",
          "name": "stdout",
          "text": [
            "1/1 [==============================] - 0s 81ms/step\n",
            "['Neutral', 'Neutral', 'Neutral']\n"
          ]
        }
      ]
    },
    {
      "cell_type": "markdown",
      "source": [
        "Here the model performed a bit good then the previous model"
      ],
      "metadata": {
        "id": "DY6bOMM95w8t"
      }
    },
    {
      "cell_type": "markdown",
      "source": [
        "## **MODEL - 3**"
      ],
      "metadata": {
        "id": "0QsvEqV9SWzA"
      }
    },
    {
      "cell_type": "markdown",
      "source": [
        "#### *To prevent overfitting of the model here we try to change the embedding to GloVe embeddings which contains 6 billions tokens where each vector has 100 dimensions of the embedding vector*\n",
        "\n",
        "*This captures the global meaning of the words rather than its local context.*\n",
        "\n",
        "### Further we can use pretrained embeddings from glove instead for increasing the accuracy of the model."
      ],
      "metadata": {
        "id": "HSBhxGN471L1"
      }
    },
    {
      "cell_type": "code",
      "source": [
        "import os\n",
        "import urllib\n",
        "\n",
        "embedding_dim = 100\n",
        "\n",
        "# Download GloVe embeddings\n",
        "if not os.path.isfile(\"glove.6B.100d.txt\"):\n",
        "    print(\"Downloading GloVe embeddings...\")\n",
        "    urllib.request.urlretrieve(\"http://nlp.stanford.edu/data/glove.6B.zip\", \"glove.6B.zip\")\n",
        "    import zipfile\n",
        "    with zipfile.ZipFile(\"glove.6B.zip\", \"r\") as zip_ref:\n",
        "        zip_ref.extractall(\".\")\n",
        "\n",
        "# Load GloVe embeddings\n",
        "def load_glove_embeddings():\n",
        "    embeddings_index = {}\n",
        "    with open(\"glove.6B.100d.txt\", encoding=\"utf-8\") as f:\n",
        "        for line in f:\n",
        "            values = line.split()\n",
        "            word = values[0]\n",
        "            coefs = np.asarray(values[1:], dtype=\"float32\")\n",
        "            embeddings_index[word] = coefs\n",
        "    return embeddings_index\n",
        "\n",
        "glove_embeddings = load_glove_embeddings()\n",
        "embedding_matrix = np.zeros((len(word_index) + 1, embedding_dim))\n",
        "for word, i in word_index.items():\n",
        "    embedding_vector = glove_embeddings.get(word)\n",
        "    if embedding_vector is not None:\n",
        "        embedding_matrix[i] = embedding_vector\n"
      ],
      "metadata": {
        "id": "zIMP-fFCKY12"
      },
      "execution_count": null,
      "outputs": []
    },
    {
      "cell_type": "markdown",
      "source": [
        "regularization is a technique to overcome overfitting of the model, which is l1, l2, dropout and early stopping."
      ],
      "metadata": {
        "id": "UmVi8QlI9Jem"
      }
    },
    {
      "cell_type": "markdown",
      "source": [
        "##### recurrent_dropout = 0.2 can be used to prevent the overfitting and improve generalization of the model"
      ],
      "metadata": {
        "id": "lvagr3eAinDt"
      }
    },
    {
      "cell_type": "markdown",
      "source": [
        "generalization is the ability of the trained model to perform well on unseen or new data that hasn't been trained on."
      ],
      "metadata": {
        "id": "432TzSbS8-by"
      }
    },
    {
      "cell_type": "code",
      "source": [
        "model3 = Sequential([\n",
        "        Embedding(len(word_index) + 1, embedding_dim, weights=[embedding_matrix], input_length=max_sequence_length, trainable=False),\n",
        "        LSTM(128, return_sequences=True, dropout=0.2, recurrent_dropout=0.2),\n",
        "        LSTM(64, return_sequences=False, dropout=0.2, recurrent_dropout=0.2),\n",
        "        Dense(32, activation='relu'),\n",
        "        Dropout(0.5),\n",
        "        Dense(3, activation='softmax')\n",
        "    ])\n",
        "\n",
        "model3.compile(loss='categorical_crossentropy', optimizer='adam', metrics=['accuracy'])\n",
        "\n",
        "print(model3.summary())"
      ],
      "metadata": {
        "colab": {
          "base_uri": "https://localhost:8080/"
        },
        "id": "gagVRcDoiEUG",
        "outputId": "bb17007d-856b-407d-be98-34fa36bc77a5"
      },
      "execution_count": null,
      "outputs": [
        {
          "output_type": "stream",
          "name": "stderr",
          "text": [
            "WARNING:tensorflow:Layer lstm_5 will not use cuDNN kernels since it doesn't meet the criteria. It will use a generic GPU kernel as fallback when running on GPU.\n",
            "WARNING:tensorflow:Layer lstm_6 will not use cuDNN kernels since it doesn't meet the criteria. It will use a generic GPU kernel as fallback when running on GPU.\n"
          ]
        },
        {
          "output_type": "stream",
          "name": "stdout",
          "text": [
            "Model: \"sequential_3\"\n",
            "_________________________________________________________________\n",
            " Layer (type)                Output Shape              Param #   \n",
            "=================================================================\n",
            " embedding_3 (Embedding)     (None, 256, 100)          7737200   \n",
            "                                                                 \n",
            " lstm_5 (LSTM)               (None, 256, 128)          117248    \n",
            "                                                                 \n",
            " lstm_6 (LSTM)               (None, 64)                49408     \n",
            "                                                                 \n",
            " dense_5 (Dense)             (None, 32)                2080      \n",
            "                                                                 \n",
            " dropout_5 (Dropout)         (None, 32)                0         \n",
            "                                                                 \n",
            " dense_6 (Dense)             (None, 3)                 99        \n",
            "                                                                 \n",
            "=================================================================\n",
            "Total params: 7,906,035\n",
            "Trainable params: 168,835\n",
            "Non-trainable params: 7,737,200\n",
            "_________________________________________________________________\n",
            "None\n"
          ]
        }
      ]
    },
    {
      "cell_type": "markdown",
      "source": [
        "The non trainable parameters are associated with the embedding layer, these parameters corresponds to the pre trained word embeddings that are loaded from GloVe embeddings and are fixed during training."
      ],
      "metadata": {
        "id": "JH0MOuyVlMel"
      }
    },
    {
      "cell_type": "code",
      "source": [
        "# Model training\n",
        "early_stopping = EarlyStopping(monitor='val_loss', patience=3, restore_best_weights=True)\n",
        "history3 = model3.fit(x_train, y_train, validation_split=0.1, epochs=15, batch_size=32, callbacks=[early_stopping])"
      ],
      "metadata": {
        "colab": {
          "base_uri": "https://localhost:8080/"
        },
        "id": "WqHhpcDCjbku",
        "outputId": "2c7bfd2c-11a5-4a57-c8d9-61c97f286e30"
      },
      "execution_count": null,
      "outputs": [
        {
          "output_type": "stream",
          "name": "stdout",
          "text": [
            "Epoch 1/15\n",
            "461/461 [==============================] - 492s 1s/step - loss: 0.6432 - accuracy: 0.7735 - val_loss: 0.4663 - val_accuracy: 0.8201\n",
            "Epoch 2/15\n",
            "461/461 [==============================] - 579s 1s/step - loss: 0.5036 - accuracy: 0.8229 - val_loss: 0.4349 - val_accuracy: 0.8354\n",
            "Epoch 3/15\n",
            "461/461 [==============================] - 634s 1s/step - loss: 0.4530 - accuracy: 0.8374 - val_loss: 0.3931 - val_accuracy: 0.8482\n",
            "Epoch 4/15\n",
            "461/461 [==============================] - 594s 1s/step - loss: 0.4154 - accuracy: 0.8461 - val_loss: 0.3685 - val_accuracy: 0.8640\n",
            "Epoch 5/15\n",
            "461/461 [==============================] - 572s 1s/step - loss: 0.3999 - accuracy: 0.8482 - val_loss: 0.3666 - val_accuracy: 0.8659\n",
            "Epoch 6/15\n",
            "461/461 [==============================] - 472s 1s/step - loss: 0.3748 - accuracy: 0.8565 - val_loss: 0.3839 - val_accuracy: 0.8598\n",
            "Epoch 7/15\n",
            "461/461 [==============================] - 461s 1000ms/step - loss: 0.3665 - accuracy: 0.8609 - val_loss: 0.3627 - val_accuracy: 0.8598\n",
            "Epoch 8/15\n",
            "461/461 [==============================] - 462s 1s/step - loss: 0.3554 - accuracy: 0.8621 - val_loss: 0.3619 - val_accuracy: 0.8616\n",
            "Epoch 9/15\n",
            "461/461 [==============================] - 464s 1s/step - loss: 0.3373 - accuracy: 0.8671 - val_loss: 0.3754 - val_accuracy: 0.8640\n",
            "Epoch 10/15\n",
            "461/461 [==============================] - 469s 1s/step - loss: 0.3214 - accuracy: 0.8728 - val_loss: 0.3670 - val_accuracy: 0.8622\n",
            "Epoch 11/15\n",
            "461/461 [==============================] - 465s 1s/step - loss: 0.3093 - accuracy: 0.8736 - val_loss: 0.3626 - val_accuracy: 0.8628\n"
          ]
        }
      ]
    },
    {
      "cell_type": "code",
      "source": [
        "# Plot the training/validation loss behavior\n",
        "import matplotlib.pyplot as plt\n",
        "\n",
        "plt.plot(history3.history['loss'], label='train')\n",
        "plt.plot(history3.history['val_loss'], label='validation')\n",
        "plt.xlabel('Epochs')\n",
        "plt.ylabel('Loss')\n",
        "plt.legend()\n",
        "plt.show()"
      ],
      "metadata": {
        "colab": {
          "base_uri": "https://localhost:8080/",
          "height": 449
        },
        "id": "dXevPaR4aynn",
        "outputId": "2a0da42a-6d69-45b9-a8e5-254c2c6550bb"
      },
      "execution_count": null,
      "outputs": [
        {
          "output_type": "display_data",
          "data": {
            "text/plain": [
              "<Figure size 640x480 with 1 Axes>"
            ],
            "image/png": "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\n"
          },
          "metadata": {}
        }
      ]
    },
    {
      "cell_type": "markdown",
      "source": [
        "From the above graph of loss and validation loss we can observe that the overfitting is quite less then that of the previous model"
      ],
      "metadata": {
        "id": "EbCsAtD99gOS"
      }
    },
    {
      "cell_type": "code",
      "source": [
        "# Model evaluation\n",
        "y_pred = model3.predict(x_test)\n",
        "y_pred_classes = np.argmax(y_pred, axis=1)\n",
        "y_test_classes = np.argmax(y_test, axis=1)\n",
        "\n",
        "print(\"Accuracy:\", accuracy_score(y_test_classes, y_pred_classes))"
      ],
      "metadata": {
        "colab": {
          "base_uri": "https://localhost:8080/"
        },
        "id": "pZiDAFjka0p1",
        "outputId": "bc8bfbb3-4e65-45c5-d7f7-44699760dc82"
      },
      "execution_count": null,
      "outputs": [
        {
          "output_type": "stream",
          "name": "stdout",
          "text": [
            "129/129 [==============================] - 22s 171ms/step\n",
            "Accuracy: 0.8585020736765064\n"
          ]
        }
      ]
    },
    {
      "cell_type": "markdown",
      "source": [
        "We observe that the accuracy of the model is to be 85.85%."
      ],
      "metadata": {
        "id": "YBsD62kCAjgr"
      }
    },
    {
      "cell_type": "code",
      "source": [
        "texts = [\"bad location and unfriendly staff\", \"good food but bad location service\", \"Very good service and food\"]\n",
        "sentiment_labels = predict_sentiment(texts, model3, tokens, max_sequence_length)\n",
        "print(sentiment_labels)"
      ],
      "metadata": {
        "colab": {
          "base_uri": "https://localhost:8080/"
        },
        "id": "0UAhAKV1a3IX",
        "outputId": "3ac69f20-20ea-4c05-85e2-ded9fcb5894a"
      },
      "execution_count": null,
      "outputs": [
        {
          "output_type": "stream",
          "name": "stdout",
          "text": [
            "1/1 [==============================] - 0s 320ms/step\n",
            "['Negative', 'Neutral', 'Positive']\n"
          ]
        }
      ]
    },
    {
      "cell_type": "markdown",
      "source": [
        "Here we can observe that this model performed great than that of other previous models. And the test case are right."
      ],
      "metadata": {
        "id": "-hotZvOm5_Z_"
      }
    }
  ]
}
